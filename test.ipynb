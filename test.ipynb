{
 "cells": [
  {
   "cell_type": "code",
   "execution_count": 1,
   "id": "a1716a90-365b-4c11-b790-3dd3db61908a",
   "metadata": {},
   "outputs": [
    {
     "name": "stdout",
     "output_type": "stream",
     "text": [
      "hello world\n"
     ]
    }
   ],
   "source": [
    "print(\"hello world\")"
   ]
  },
  {
   "cell_type": "code",
   "execution_count": 6,
   "id": "afef90e9-4fb8-4983-ad04-e582803df41a",
   "metadata": {},
   "outputs": [
    {
     "name": "stdout",
     "output_type": "stream",
     "text": [
      "1.5 1\n",
      "<class 'float'> <class 'int'> <class 'list'>\n"
     ]
    }
   ],
   "source": [
    "a=3/2\n",
    "b=3//2\n",
    "my_va=[\"bd\",\"Aug\"]\n",
    "print(a,b)\n",
    "print(type(a),type(b),type(my_va))\n"
   ]
  },
  {
   "cell_type": "code",
   "execution_count": 10,
   "id": "4b511599-686e-4415-a88d-4b7b2a5c94b7",
   "metadata": {},
   "outputs": [
    {
     "name": "stdout",
     "output_type": "stream",
     "text": [
      "40\n"
     ]
    }
   ],
   "source": [
    "a=5\n",
    "a=10\n",
    "a=a+10\n",
    "a=a+a\n",
    "print(a)\n"
   ]
  },
  {
   "cell_type": "code",
   "execution_count": 33,
   "id": "cf471285-b3a8-48db-93cb-ec7cc577efe7",
   "metadata": {},
   "outputs": [
    {
     "name": "stdout",
     "output_type": "stream",
     "text": [
      "let's connect on linkedin\n",
      "l\n",
      "in\n",
      "aceg\n",
      "ac\n",
      "hgfedcba\n",
      "abcdefgh\n"
     ]
    }
   ],
   "source": [
    "b=\"let's connect on linkedin\"\n",
    "print(b, b[0], b[-2:], sep='\\n')\n",
    "c=\"abcdefgh\"\n",
    "print(c[::2],c[:4:2],c[::-1],c[::] , sep='\\n')\n"
   ]
  },
  {
   "cell_type": "code",
   "execution_count": 8,
   "id": "2374fb4c-8e28-47d9-8af6-f87995337b76",
   "metadata": {},
   "outputs": [
    {
     "name": "stdout",
     "output_type": "stream",
     "text": [
      "None [1, 2, 3, 4, 5]\n",
      "[1, 2, 3, 4, 5]\n",
      "['a', 'b', 'c', 'd']\n",
      "[1, 2, 3, 4, 5, 'a', 'b', 'c', 'd']\n",
      "[0, 'b', 'c', 'd', 'z']\n",
      "['b', 'c', 'd'] z 0\n",
      "['d', 'c', 'b']\n"
     ]
    }
   ],
   "source": [
    "list1=[1,2,3,'4',5]\n",
    "list1=[int(x) for x in list1]\n",
    "wow=list1.sort()\n",
    "list1.sort()\n",
    "print(wow,list1)\n",
    "list2=['a','b','d','c']\n",
    "list2.sort()\n",
    "list3=list1+list2\n",
    "print(list1,list2,list3, sep='\\n')\n",
    "list2[0]=0\n",
    "list2.append('z')\n",
    "print(list2)\n",
    "pop1=list2.pop()\n",
    "pop2=list2.pop(0)\n",
    "print(list2,pop1,pop2)\n",
    "list4=list2[::-1]\n",
    "print(list4)"
   ]
  },
  {
   "cell_type": "code",
   "execution_count": 22,
   "id": "db1d3f95-f4fe-4997-ab6c-3d33b643777e",
   "metadata": {},
   "outputs": [
    {
     "name": "stdout",
     "output_type": "stream",
     "text": [
      "[1, 2, 3, 4, 5]\n",
      "[1, 2, 3, 4, 5]\n",
      "[1, 2, 3, 4, 5]\n"
     ]
    }
   ],
   "source": [
    "enl=[1,2,3,5]\n",
    "enl1=enl.copy()\n",
    "enl2=enl.copy()\n",
    "enl.insert(3,4)\n",
    "print(enl)\n",
    "index=3\n",
    "element=4\n",
    "enl1=enl1[:index]+[element]+enl1[index:]\n",
    "print(enl1)\n",
    "enl4=[]\n",
    "for i in range(len(enl2)):\n",
    "    if i==index:\n",
    "        enl4.append(element)\n",
    "    enl4.append(enl2[i])\n",
    "print(enl4)"
   ]
  },
  {
   "cell_type": "code",
   "execution_count": 14,
   "id": "494df29b-8797-48bd-83f9-34a9f4ae0398",
   "metadata": {},
   "outputs": [
    {
     "name": "stdout",
     "output_type": "stream",
     "text": [
      "1.9\n",
      "{'k1': 123, 'k2': [0, 1, 2, 3], 'k3': {'k4': 'wow', 'k6': 'new'}, 'k5': 4}\n",
      "dict_keys(['k1', 'k2', 'k3', 'k5'])\n",
      "dict_values([123, [0, 1, 2, 3], {'k4': 'wow', 'k6': 'new'}, 4])\n",
      "dict_items([('k1', 123), ('k2', [0, 1, 2, 3]), ('k3', {'k4': 'wow', 'k6': 'new'}), ('k5', 4)])\n"
     ]
    }
   ],
   "source": [
    "prices = {'app':2.9,'org':1.9,'grape':1}\n",
    "print(prices['org'])\n",
    "d = {'k1':123,'k2':[0,1,2],'k3':{'k4': 'wow'}}\n",
    "d['k5']=4\n",
    "d['k2'].append(3)\n",
    "d['k3']['k6']='new'\n",
    "keys= d.keys()\n",
    "values=d.values()\n",
    "everything=d.items()\n",
    "print(d)\n",
    "print(keys)\n",
    "print(values)\n",
    "print(everything)\n",
    "\n"
   ]
  },
  {
   "cell_type": "code",
   "execution_count": 26,
   "id": "95946b9c-760f-4c8e-bf2b-a22cba24bf5c",
   "metadata": {},
   "outputs": [
    {
     "name": "stdout",
     "output_type": "stream",
     "text": [
      "(0, 1, 2, 2, 'a', 'added') 2 a\n"
     ]
    }
   ],
   "source": [
    "t=(0,1,2,2,'a')\n",
    "t1=('added',) #a comma(,) needs to be added inside the tuple or else Python will treat it as a string\n",
    "t2=t+t1\n",
    "cou=t.count(2)\n",
    "indexp=t2[4]\n",
    "print(t2,cou,indexp)"
   ]
  },
  {
   "cell_type": "code",
   "execution_count": 46,
   "id": "de26ff7d-931d-4ba2-99a3-c3505e1891ed",
   "metadata": {},
   "outputs": [
    {
     "name": "stdout",
     "output_type": "stream",
     "text": [
      "{1, 2, 3, 'b'}\n"
     ]
    }
   ],
   "source": [
    "aset=set()\n",
    "bset=set()\n",
    "aset.add(1) #can take only one arg\n",
    "aset.add(2)\n",
    "alist=[3,3,3,3,'b']\n",
    "bset=set(alist)\n",
    "cset=aset | bset # for union operation (set doesn't support concatenation)\n",
    "print(cset)\n",
    "#i will include further operations on set in the next repository"
   ]
  },
  {
   "cell_type": "code",
   "execution_count": 49,
   "id": "97f20165-deb6-4464-bdb3-7f6a6ed487bc",
   "metadata": {},
   "outputs": [
    {
     "data": {
      "text/plain": [
       "bool"
      ]
     },
     "execution_count": 49,
     "metadata": {},
     "output_type": "execute_result"
    }
   ],
   "source": [
    "True\n",
    "type(True)\n"
   ]
  },
  {
   "cell_type": "code",
   "execution_count": 50,
   "id": "edea58d5-4416-4d2e-bfbd-8ee73d096d36",
   "metadata": {},
   "outputs": [
    {
     "data": {
      "text/plain": [
       "False"
      ]
     },
     "execution_count": 50,
     "metadata": {},
     "output_type": "execute_result"
    }
   ],
   "source": [
    "1>2\n"
   ]
  },
  {
   "cell_type": "code",
   "execution_count": null,
   "id": "b9bc7a99-46cd-4f9f-ae26-9dcfa9fffabb",
   "metadata": {},
   "outputs": [],
   "source": []
  }
 ],
 "metadata": {
  "kernelspec": {
   "display_name": "Python 3 (ipykernel)",
   "language": "python",
   "name": "python3"
  },
  "language_info": {
   "codemirror_mode": {
    "name": "ipython",
    "version": 3
   },
   "file_extension": ".py",
   "mimetype": "text/x-python",
   "name": "python",
   "nbconvert_exporter": "python",
   "pygments_lexer": "ipython3",
   "version": "3.13.5"
  }
 },
 "nbformat": 4,
 "nbformat_minor": 5
}
