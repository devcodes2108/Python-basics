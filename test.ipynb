{
 "cells": [
  {
   "cell_type": "code",
   "execution_count": 1,
   "id": "a1716a90-365b-4c11-b790-3dd3db61908a",
   "metadata": {},
   "outputs": [
    {
     "name": "stdout",
     "output_type": "stream",
     "text": [
      "hello world\n"
     ]
    }
   ],
   "source": [
    "print(\"hello world\")"
   ]
  },
  {
   "cell_type": "code",
   "execution_count": 6,
   "id": "afef90e9-4fb8-4983-ad04-e582803df41a",
   "metadata": {},
   "outputs": [
    {
     "name": "stdout",
     "output_type": "stream",
     "text": [
      "1.5 1\n",
      "<class 'float'> <class 'int'> <class 'list'>\n"
     ]
    }
   ],
   "source": [
    "a=3/2\n",
    "b=3//2\n",
    "my_va=[\"bd\",\"Aug\"]\n",
    "print(a,b)\n",
    "print(type(a),type(b),type(my_va))\n"
   ]
  },
  {
   "cell_type": "code",
   "execution_count": 10,
   "id": "4b511599-686e-4415-a88d-4b7b2a5c94b7",
   "metadata": {},
   "outputs": [
    {
     "name": "stdout",
     "output_type": "stream",
     "text": [
      "40\n"
     ]
    }
   ],
   "source": [
    "a=5\n",
    "a=10\n",
    "a=a+10\n",
    "a=a+a\n",
    "print(a)\n"
   ]
  },
  {
   "cell_type": "code",
   "execution_count": 24,
   "id": "cf471285-b3a8-48db-93cb-ec7cc577efe7",
   "metadata": {},
   "outputs": [
    {
     "name": "stdout",
     "output_type": "stream",
     "text": [
      "let's connect on linkedin\n",
      "l\n",
      "in\n",
      "aceg\n",
      "ac\n",
      "hgfedcba\n",
      "abcdefgh\n"
     ]
    }
   ],
   "source": [
    "b=\"let's connect on linkedin\"\n",
    "print(b, b[0], b[-2:], sep='\\n')\n",
    "c=\"abcdefgh\"\n",
    "print(c[::2],c[:4:2],c[::-1],c[::], sep='\\n')\n"
   ]
  },
  {
   "cell_type": "code",
   "execution_count": 8,
   "id": "2374fb4c-8e28-47d9-8af6-f87995337b76",
   "metadata": {},
   "outputs": [
    {
     "name": "stdout",
     "output_type": "stream",
     "text": [
      "None [1, 2, 3, 4, 5]\n",
      "[1, 2, 3, 4, 5]\n",
      "['a', 'b', 'c', 'd']\n",
      "[1, 2, 3, 4, 5, 'a', 'b', 'c', 'd']\n",
      "[0, 'b', 'c', 'd', 'z']\n",
      "['b', 'c', 'd'] z 0\n",
      "['d', 'c', 'b']\n"
     ]
    }
   ],
   "source": [
    "list1=[1,2,3,'4',5]\n",
    "list1=[int(x) for x in list1]\n",
    "wow=list1.sort()\n",
    "list1.sort()\n",
    "print(wow,list1)\n",
    "list2=['a','b','d','c']\n",
    "list2.sort()\n",
    "list3=list1+list2\n",
    "print(list1,list2,list3, sep='\\n')\n",
    "list2[0]=0\n",
    "list2.append('z')\n",
    "print(list2)\n",
    "pop1=list2.pop()\n",
    "pop2=list2.pop(0)\n",
    "print(list2,pop1,pop2)\n",
    "list4=list2[::-1]\n",
    "print(list4)"
   ]
  },
  {
   "cell_type": "code",
   "execution_count": 22,
   "id": "db1d3f95-f4fe-4997-ab6c-3d33b643777e",
   "metadata": {},
   "outputs": [
    {
     "name": "stdout",
     "output_type": "stream",
     "text": [
      "[1, 2, 3, 4, 5]\n",
      "[1, 2, 3, 4, 5]\n",
      "[1, 2, 3, 4, 5]\n"
     ]
    }
   ],
   "source": [
    "enl=[1,2,3,5]\n",
    "enl1=enl.copy()\n",
    "enl2=enl.copy()\n",
    "enl.insert(3,4)\n",
    "print(enl)\n",
    "index=3\n",
    "element=4\n",
    "enl1=enl1[:index]+[element]+enl1[index:]\n",
    "print(enl1)\n",
    "enl4=[]\n",
    "for i in range(len(enl2)):\n",
    "    if i==index:\n",
    "        enl4.append(element)\n",
    "    enl4.append(enl2[i])\n",
    "print(enl4)"
   ]
  }
 ],
 "metadata": {
  "kernelspec": {
   "display_name": "Python 3 (ipykernel)",
   "language": "python",
   "name": "python3"
  },
  "language_info": {
   "codemirror_mode": {
    "name": "ipython",
    "version": 3
   },
   "file_extension": ".py",
   "mimetype": "text/x-python",
   "name": "python",
   "nbconvert_exporter": "python",
   "pygments_lexer": "ipython3",
   "version": "3.13.5"
  }
 },
 "nbformat": 4,
 "nbformat_minor": 5
}
