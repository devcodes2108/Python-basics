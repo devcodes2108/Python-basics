{
 "cells": [
  {
   "cell_type": "code",
   "execution_count": 1,
   "id": "a1716a90-365b-4c11-b790-3dd3db61908a",
   "metadata": {},
   "outputs": [
    {
     "name": "stdout",
     "output_type": "stream",
     "text": [
      "hello world\n"
     ]
    }
   ],
   "source": [
    "print(\"hello world\")"
   ]
  },
  {
   "cell_type": "code",
   "execution_count": 6,
   "id": "afef90e9-4fb8-4983-ad04-e582803df41a",
   "metadata": {},
   "outputs": [
    {
     "name": "stdout",
     "output_type": "stream",
     "text": [
      "1.5 1\n",
      "<class 'float'> <class 'int'> <class 'list'>\n"
     ]
    }
   ],
   "source": [
    "a=3/2\n",
    "b=3//2\n",
    "my_va=[\"bd\",\"Aug\"]\n",
    "print(a,b)\n",
    "print(type(a),type(b),type(my_va))\n"
   ]
  },
  {
   "cell_type": "code",
   "execution_count": 10,
   "id": "4b511599-686e-4415-a88d-4b7b2a5c94b7",
   "metadata": {},
   "outputs": [
    {
     "name": "stdout",
     "output_type": "stream",
     "text": [
      "40\n"
     ]
    }
   ],
   "source": [
    "a=5\n",
    "a=10\n",
    "a=a+10\n",
    "a=a+a\n",
    "print(a)\n"
   ]
  },
  {
   "cell_type": "code",
   "execution_count": 33,
   "id": "cf471285-b3a8-48db-93cb-ec7cc577efe7",
   "metadata": {},
   "outputs": [
    {
     "name": "stdout",
     "output_type": "stream",
     "text": [
      "let's connect on linkedin\n",
      "l\n",
      "in\n",
      "aceg\n",
      "ac\n",
      "hgfedcba\n",
      "abcdefgh\n"
     ]
    }
   ],
   "source": [
    "b=\"let's connect on linkedin\"\n",
    "print(b, b[0], b[-2:], sep='\\n')\n",
    "c=\"abcdefgh\"\n",
    "print(c[::2],c[:4:2],c[::-1],c[::] , sep='\\n')\n"
   ]
  },
  {
   "cell_type": "code",
   "execution_count": 8,
   "id": "2374fb4c-8e28-47d9-8af6-f87995337b76",
   "metadata": {},
   "outputs": [
    {
     "name": "stdout",
     "output_type": "stream",
     "text": [
      "None [1, 2, 3, 4, 5]\n",
      "[1, 2, 3, 4, 5]\n",
      "['a', 'b', 'c', 'd']\n",
      "[1, 2, 3, 4, 5, 'a', 'b', 'c', 'd']\n",
      "[0, 'b', 'c', 'd', 'z']\n",
      "['b', 'c', 'd'] z 0\n",
      "['d', 'c', 'b']\n"
     ]
    }
   ],
   "source": [
    "list1=[1,2,3,'4',5]\n",
    "list1=[int(x) for x in list1]\n",
    "wow=list1.sort()\n",
    "list1.sort()\n",
    "print(wow,list1)\n",
    "list2=['a','b','d','c']\n",
    "list2.sort()\n",
    "list3=list1+list2\n",
    "print(list1,list2,list3, sep='\\n')\n",
    "list2[0]=0\n",
    "list2.append('z')\n",
    "print(list2)\n",
    "pop1=list2.pop()\n",
    "pop2=list2.pop(0)\n",
    "print(list2,pop1,pop2)\n",
    "list4=list2[::-1]\n",
    "print(list4)"
   ]
  },
  {
   "cell_type": "code",
   "execution_count": 22,
   "id": "db1d3f95-f4fe-4997-ab6c-3d33b643777e",
   "metadata": {},
   "outputs": [
    {
     "name": "stdout",
     "output_type": "stream",
     "text": [
      "[1, 2, 3, 4, 5]\n",
      "[1, 2, 3, 4, 5]\n",
      "[1, 2, 3, 4, 5]\n"
     ]
    }
   ],
   "source": [
    "enl=[1,2,3,5]\n",
    "enl1=enl.copy()\n",
    "enl2=enl.copy()\n",
    "enl.insert(3,4)\n",
    "print(enl)\n",
    "index=3\n",
    "element=4\n",
    "enl1=enl1[:index]+[element]+enl1[index:]\n",
    "print(enl1)\n",
    "enl4=[]\n",
    "for i in range(len(enl2)):\n",
    "    if i==index:\n",
    "        enl4.append(element)\n",
    "    enl4.append(enl2[i])\n",
    "print(enl4)"
   ]
  },
  {
   "cell_type": "code",
   "execution_count": 14,
   "id": "494df29b-8797-48bd-83f9-34a9f4ae0398",
   "metadata": {},
   "outputs": [
    {
     "name": "stdout",
     "output_type": "stream",
     "text": [
      "1.9\n",
      "{'k1': 123, 'k2': [0, 1, 2, 3], 'k3': {'k4': 'wow', 'k6': 'new'}, 'k5': 4}\n",
      "dict_keys(['k1', 'k2', 'k3', 'k5'])\n",
      "dict_values([123, [0, 1, 2, 3], {'k4': 'wow', 'k6': 'new'}, 4])\n",
      "dict_items([('k1', 123), ('k2', [0, 1, 2, 3]), ('k3', {'k4': 'wow', 'k6': 'new'}), ('k5', 4)])\n"
     ]
    }
   ],
   "source": [
    "prices = {'app':2.9,'org':1.9,'grape':1}\n",
    "print(prices['org'])\n",
    "d = {'k1':123,'k2':[0,1,2],'k3':{'k4': 'wow'}}\n",
    "d['k5']=4\n",
    "d['k2'].append(3)\n",
    "d['k3']['k6']='new'\n",
    "keys= d.keys()\n",
    "values=d.values()\n",
    "everything=d.items()\n",
    "print(d)\n",
    "print(keys)\n",
    "print(values)\n",
    "print(everything)\n",
    "\n"
   ]
  },
  {
   "cell_type": "code",
   "execution_count": 26,
   "id": "95946b9c-760f-4c8e-bf2b-a22cba24bf5c",
   "metadata": {},
   "outputs": [
    {
     "name": "stdout",
     "output_type": "stream",
     "text": [
      "(0, 1, 2, 2, 'a', 'added') 2 a\n"
     ]
    }
   ],
   "source": [
    "t=(0,1,2,2,'a')\n",
    "t1=('added',) #a comma(,) needs to be added inside the tuple or else Python will treat it as a string\n",
    "t2=t+t1\n",
    "cou=t.count(2)\n",
    "indexp=t2[4]\n",
    "print(t2,cou,indexp)"
   ]
  },
  {
   "cell_type": "code",
   "execution_count": 46,
   "id": "de26ff7d-931d-4ba2-99a3-c3505e1891ed",
   "metadata": {},
   "outputs": [
    {
     "name": "stdout",
     "output_type": "stream",
     "text": [
      "{1, 2, 3, 'b'}\n"
     ]
    }
   ],
   "source": [
    "aset=set()\n",
    "bset=set()\n",
    "aset.add(1) #can take only one arg\n",
    "aset.add(2)\n",
    "alist=[3,3,3,3,'b']\n",
    "bset=set(alist)\n",
    "cset=aset | bset # for union operation (set doesn't support concatenation)\n",
    "print(cset)\n",
    "#i will include further operations on set in the next repository"
   ]
  },
  {
   "cell_type": "code",
   "execution_count": 49,
   "id": "97f20165-deb6-4464-bdb3-7f6a6ed487bc",
   "metadata": {},
   "outputs": [
    {
     "data": {
      "text/plain": [
       "bool"
      ]
     },
     "execution_count": 49,
     "metadata": {},
     "output_type": "execute_result"
    }
   ],
   "source": [
    "True\n",
    "type(True)\n"
   ]
  },
  {
   "cell_type": "code",
   "execution_count": 50,
   "id": "edea58d5-4416-4d2e-bfbd-8ee73d096d36",
   "metadata": {},
   "outputs": [
    {
     "data": {
      "text/plain": [
       "False"
      ]
     },
     "execution_count": 50,
     "metadata": {},
     "output_type": "execute_result"
    }
   ],
   "source": [
    "1>2\n"
   ]
  },
  {
   "cell_type": "code",
   "execution_count": 11,
   "id": "b9bc7a99-46cd-4f9f-ae26-9dcfa9fffabb",
   "metadata": {},
   "outputs": [
    {
     "name": "stdout",
     "output_type": "stream",
     "text": [
      "Overwriting nfile.txt\n"
     ]
    }
   ],
   "source": [
    "%%writefile nfile.txt\n",
    "ONE ON FIRST\n",
    "TWO ON SECOND\n",
    "THREE ON THIRD"
   ]
  },
  {
   "cell_type": "code",
   "execution_count": 12,
   "id": "50b630a6-d2f0-4259-826a-a08f69c0a4b5",
   "metadata": {},
   "outputs": [
    {
     "name": "stdout",
     "output_type": "stream",
     "text": [
      "ONE ON FIRST\n",
      "TWO ON SECOND\n",
      "THREE ON THIRD\n",
      "\n"
     ]
    }
   ],
   "source": [
    "with open ('nfile.txt', mode='r') as f:\n",
    "    print (f.read())"
   ]
  },
  {
   "cell_type": "code",
   "execution_count": 13,
   "id": "5fe4aa16-4c6d-43ca-a6b6-69d6cead82e0",
   "metadata": {},
   "outputs": [],
   "source": [
    "with open ('nfile.txt', mode='a') as f:\n",
    "    f.write('I created this file!')"
   ]
  },
  {
   "cell_type": "code",
   "execution_count": 14,
   "id": "f2eee2ae-8476-4c47-a8ba-49269d22b788",
   "metadata": {},
   "outputs": [
    {
     "name": "stdout",
     "output_type": "stream",
     "text": [
      "ONE ON FIRST\n",
      "TWO ON SECOND\n",
      "THREE ON THIRD\n",
      "I created this file!\n"
     ]
    }
   ],
   "source": [
    "with open('nfile.txt', mode='r') as f:\n",
    "    print (f.read())"
   ]
  },
  {
   "cell_type": "code",
   "execution_count": 15,
   "id": "4ec3948a-601c-410d-ab39-2cb185cf7f53",
   "metadata": {},
   "outputs": [
    {
     "data": {
      "text/plain": [
       "False"
      ]
     },
     "execution_count": 15,
     "metadata": {},
     "output_type": "execute_result"
    }
   ],
   "source": [
    "#comaprison operators\n",
    "1<2>3"
   ]
  },
  {
   "cell_type": "code",
   "execution_count": 16,
   "id": "5c629f70-a77a-4ae9-b858-0dfa8fc942d3",
   "metadata": {},
   "outputs": [
    {
     "name": "stdout",
     "output_type": "stream",
     "text": [
      "not hungry\n"
     ]
    }
   ],
   "source": [
    "hungry = False #conditional statements\n",
    "if hungry:\n",
    "    print(\"feed\")\n",
    "else:\n",
    "    print(\"not hungry\")"
   ]
  },
  {
   "cell_type": "code",
   "execution_count": 1,
   "id": "b832ffd4-7d98-4fc1-b408-911e460bced3",
   "metadata": {},
   "outputs": [
    {
     "name": "stdout",
     "output_type": "stream",
     "text": [
      "money\n"
     ]
    }
   ],
   "source": [
    "loc = 'bank'\n",
    "if loc == 'automobile service':\n",
    "    print('cars')\n",
    "elif loc == 'bank':\n",
    "    print('money')\n",
    "elif loc == 'store':\n",
    "    print('food')\n",
    "else:\n",
    "    print('no idea')"
   ]
  },
  {
   "cell_type": "code",
   "execution_count": 2,
   "id": "c0502d3a-3de9-47e2-ae9a-3487bbb6648e",
   "metadata": {},
   "outputs": [
    {
     "name": "stdout",
     "output_type": "stream",
     "text": [
      "1\n",
      "2\n",
      "3\n"
     ]
    }
   ],
   "source": [
    "my_iter=[1,2,3] #basic loop\n",
    "for item in my_iter:\n",
    "    print(item)"
   ]
  },
  {
   "cell_type": "code",
   "execution_count": 6,
   "id": "5019752e-5250-417e-860e-71deb1262f82",
   "metadata": {},
   "outputs": [
    {
     "name": "stdout",
     "output_type": "stream",
     "text": [
      "odd num:1\n",
      "2\n",
      "odd num:3\n",
      "4\n",
      "odd num:5\n",
      "6\n",
      "odd num:7\n",
      "8\n",
      "odd num:9\n",
      "10\n"
     ]
    }
   ],
   "source": [
    "alsit = [1,2,3,4,5,6,7,8,9,10]\n",
    "for num in alsit:\n",
    "    if num % 2==0:\n",
    "        print(num)\n",
    "    else:\n",
    "        print(f'odd num:{num}')\n",
    "    "
   ]
  },
  {
   "cell_type": "code",
   "execution_count": 9,
   "id": "f3f79b5f-a24a-4516-9ec0-3f9bdccf251e",
   "metadata": {},
   "outputs": [
    {
     "name": "stdout",
     "output_type": "stream",
     "text": [
      "55\n"
     ]
    }
   ],
   "source": [
    "lsum = 0\n",
    "for num in alsit:\n",
    "    lsum+=num #lsum = lsum+num\n",
    "print(lsum)"
   ]
  },
  {
   "cell_type": "code",
   "execution_count": 10,
   "id": "f665be03-978c-4882-bd1f-ade656403842",
   "metadata": {},
   "outputs": [
    {
     "name": "stdout",
     "output_type": "stream",
     "text": [
      "1\n",
      "2\n",
      "3\n",
      "4\n",
      "5\n",
      "6\n"
     ]
    }
   ],
   "source": [
    "mylist=[(1,2),(3,4),(5,6)] #tuple unpacking (list)\n",
    "for a,b in mylist:\n",
    "    print(a)\n",
    "    print(b)"
   ]
  },
  {
   "cell_type": "code",
   "execution_count": 19,
   "id": "a1bdc84c-49e0-4ec3-8651-286adb9cfdc7",
   "metadata": {},
   "outputs": [
    {
     "name": "stdout",
     "output_type": "stream",
     "text": [
      "k1\n",
      "k2\n",
      "k3\n",
      "---------------\n",
      "('k1', 1)\n",
      "('k2', 2)\n",
      "('k3', 3)\n",
      "---------------\n",
      "k1\n",
      "1\n",
      "k2\n",
      "2\n",
      "k3\n",
      "3\n"
     ]
    }
   ],
   "source": [
    "d={'k1':1,'k2':2,'k3':3}#case 1\n",
    "for item in d:\n",
    "    print(item)\n",
    "print('---------------')\n",
    "for item in d.items():#case 2\n",
    "    print(item)\n",
    "print('---------------')\n",
    "for key,value in d.items():#case 3\n",
    "    print(key)\n",
    "    print(value)"
   ]
  },
  {
   "cell_type": "code",
   "execution_count": 2,
   "id": "cad91fb8-007b-4bf3-811f-dab2dd2113c5",
   "metadata": {},
   "outputs": [
    {
     "name": "stdout",
     "output_type": "stream",
     "text": [
      "value is 0\n",
      "value is 1\n",
      "completed\n"
     ]
    }
   ],
   "source": [
    "\n",
    "x=0 # while loop\n",
    "while x<2:\n",
    "    print(f'value is {x}')\n",
    "    x+=1\n",
    "else:\n",
    "    print('completed')\n",
    "\n"
   ]
  },
  {
   "cell_type": "code",
   "execution_count": 14,
   "id": "2c98f469-4bae-49bf-ac7b-0627362798e5",
   "metadata": {},
   "outputs": [
    {
     "name": "stdout",
     "output_type": "stream",
     "text": [
      "w\n",
      "w\n"
     ]
    }
   ],
   "source": [
    "astr='wow' #check the difference below\n",
    "for x in astr:\n",
    "    if x!='o':\n",
    "        print(x)"
   ]
  },
  {
   "cell_type": "code",
   "execution_count": 16,
   "id": "a61411c0-3032-41ad-ac52-9699d0cd9f97",
   "metadata": {},
   "outputs": [
    {
     "name": "stdout",
     "output_type": "stream",
     "text": [
      "w\n"
     ]
    }
   ],
   "source": [
    "astr='wow' #using break\n",
    "for x in astr:\n",
    "    if x!='o':\n",
    "        print(x)\n",
    "    break"
   ]
  },
  {
   "cell_type": "code",
   "execution_count": 21,
   "id": "234cad02-7c8f-442c-87eb-53bded03b6db",
   "metadata": {},
   "outputs": [
    {
     "name": "stdout",
     "output_type": "stream",
     "text": [
      "Hello Dev\n",
      "3\n"
     ]
    }
   ],
   "source": [
    "def namef(name): #functions\n",
    "    print('Hello '+name)\n",
    "namef('Dev')\n",
    "def addf(num1,num2):\n",
    "    return num1+num2\n",
    "result=addf(1,2)\n",
    "print (result)"
   ]
  },
  {
   "cell_type": "code",
   "execution_count": 26,
   "id": "ecb23b33-4f80-48cc-ba25-b691bedd5e89",
   "metadata": {},
   "outputs": [
    {
     "data": {
      "text/plain": [
       "5.0"
      ]
     },
     "execution_count": 26,
     "metadata": {},
     "output_type": "execute_result"
    }
   ],
   "source": [
    "def myfu(*args):\n",
    "    return sum(args)*0.05 \n",
    "myfu(40,60)# add as many numbers as needed\n"
   ]
  },
  {
   "cell_type": "code",
   "execution_count": 40,
   "id": "5ebba03b-9a68-4659-a59d-33312a6506f8",
   "metadata": {},
   "outputs": [
    {
     "name": "stdout",
     "output_type": "stream",
     "text": [
      "this is ok\n",
      "this is ok\n"
     ]
    },
    {
     "data": {
      "text/plain": [
       "{'x': 'ok', 'y': 'no'}"
      ]
     },
     "execution_count": 40,
     "metadata": {},
     "output_type": "execute_result"
    }
   ],
   "source": [
    "def sfun(**kwargs):\n",
    "    if 'x' in (kwargs):\n",
    "        print('this is {}'.format ( kwargs['x']))\n",
    "        print(f'this is {kwargs['x']}') #alternate\n",
    "    else:\n",
    "        print('nothing')\n",
    "    return kwargs #returns in the form of dictionary\n",
    "sfun(x='ok', y='no')"
   ]
  },
  {
   "cell_type": "code",
   "execution_count": 48,
   "id": "867e57d9-cad3-4c16-a737-8932af4682e5",
   "metadata": {},
   "outputs": [
    {
     "name": "stdout",
     "output_type": "stream",
     "text": [
      "error here\n",
      "---------------\n",
      "it was smooth\n"
     ]
    }
   ],
   "source": [
    "#error and exception handling\n",
    "try:\n",
    "    result= 10+'10'\n",
    "except:\n",
    "    print('error here')\n",
    "print('---------------')\n",
    "try:\n",
    "    f=open('testfile','w')\n",
    "    f.write(\"write a test line\")\n",
    "except TypeError:\n",
    "    print(' a type-error occured')\n",
    "except OSError:\n",
    "    print('an os error occured')\n",
    "finally:\n",
    "    print('it was smooth')\n"
   ]
  },
  {
   "cell_type": "code",
   "execution_count": 49,
   "id": "52e78cbe-8d91-4747-962a-1093100c5a78",
   "metadata": {},
   "outputs": [
    {
     "name": "stdout",
     "output_type": "stream",
     "text": [
      "an os error occured\n",
      "it was smooth\n"
     ]
    }
   ],
   "source": [
    "try:\n",
    "    f=open('testfile','r')# mode changed to 'r'\n",
    "    f.write(\"write a test line\")\n",
    "except TypeError:\n",
    "    print(' a type-error occured')\n",
    "except OSError:\n",
    "    print('an os error occured')\n",
    "finally:\n",
    "    print('it was smooth')"
   ]
  },
  {
   "cell_type": "code",
   "execution_count": 7,
   "id": "5544631f-7b77-42ec-bfb0-e4bd50d5ce5e",
   "metadata": {},
   "outputs": [
    {
     "name": "stdin",
     "output_type": "stream",
     "text": [
      "num: hi\n"
     ]
    },
    {
     "name": "stdout",
     "output_type": "stream",
     "text": [
      "not a num\n",
      "done np\n"
     ]
    },
    {
     "name": "stdin",
     "output_type": "stream",
     "text": [
      "num: num?\n"
     ]
    },
    {
     "name": "stdout",
     "output_type": "stream",
     "text": [
      "not a num\n",
      "done np\n"
     ]
    },
    {
     "name": "stdin",
     "output_type": "stream",
     "text": [
      "num: 2\n"
     ]
    },
    {
     "name": "stdout",
     "output_type": "stream",
     "text": [
      "thank you\n",
      "done np\n"
     ]
    }
   ],
   "source": [
    "def ask_int():# using while and break\n",
    "\n",
    "   while True:\n",
    "    try:\n",
    "        result=int(input('num:'))\n",
    "    except:\n",
    "        print('not a num')\n",
    "        continue\n",
    "    else:\n",
    "       print('thank you')\n",
    "       break\n",
    "    finally:\n",
    "        print('done np')\n",
    "        \n",
    "ask_int()"
   ]
  }
 ],
 "metadata": {
  "kernelspec": {
   "display_name": "Python 3 (ipykernel)",
   "language": "python",
   "name": "python3"
  },
  "language_info": {
   "codemirror_mode": {
    "name": "ipython",
    "version": 3
   },
   "file_extension": ".py",
   "mimetype": "text/x-python",
   "name": "python",
   "nbconvert_exporter": "python",
   "pygments_lexer": "ipython3",
   "version": "3.13.5"
  }
 },
 "nbformat": 4,
 "nbformat_minor": 5
}
